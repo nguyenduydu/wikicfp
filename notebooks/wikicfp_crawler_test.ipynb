{
 "cells": [
  {
   "cell_type": "markdown",
   "source": [
    "# Import libraries"
   ],
   "metadata": {
    "collapsed": false,
    "pycharm": {
     "name": "#%% md\n"
    }
   }
  },
  {
   "cell_type": "code",
   "execution_count": 10,
   "outputs": [],
   "source": [
    "import numpy as np\n",
    "import pandas as pd\n",
    "import numpy as np\n",
    "import requests\n",
    "from bs4 import BeautifulSoup"
   ],
   "metadata": {
    "collapsed": false,
    "pycharm": {
     "name": "#%%\n"
    }
   }
  },
  {
   "cell_type": "markdown",
   "source": [
    "# Load data"
   ],
   "metadata": {
    "collapsed": false,
    "pycharm": {
     "name": "#%% md\n"
    }
   }
  },
  {
   "cell_type": "code",
   "execution_count": 11,
   "outputs": [
    {
     "data": {
      "text/plain": "               Country   Region\n0          Afghanistan     Asia\n1        Åland Islands   Europe\n2              Albania   Europe\n3              Algeria   Africa\n4       American Samoa  Oceania\n..                 ...      ...\n244  Wallis and Futuna  Oceania\n245     Western Sahara   Africa\n246              Yemen     Asia\n247             Zambia   Africa\n248           Zimbabwe   Africa\n\n[249 rows x 2 columns]",
      "text/html": "<div>\n<style scoped>\n    .dataframe tbody tr th:only-of-type {\n        vertical-align: middle;\n    }\n\n    .dataframe tbody tr th {\n        vertical-align: top;\n    }\n\n    .dataframe thead th {\n        text-align: right;\n    }\n</style>\n<table border=\"1\" class=\"dataframe\">\n  <thead>\n    <tr style=\"text-align: right;\">\n      <th></th>\n      <th>Country</th>\n      <th>Region</th>\n    </tr>\n  </thead>\n  <tbody>\n    <tr>\n      <th>0</th>\n      <td>Afghanistan</td>\n      <td>Asia</td>\n    </tr>\n    <tr>\n      <th>1</th>\n      <td>Åland Islands</td>\n      <td>Europe</td>\n    </tr>\n    <tr>\n      <th>2</th>\n      <td>Albania</td>\n      <td>Europe</td>\n    </tr>\n    <tr>\n      <th>3</th>\n      <td>Algeria</td>\n      <td>Africa</td>\n    </tr>\n    <tr>\n      <th>4</th>\n      <td>American Samoa</td>\n      <td>Oceania</td>\n    </tr>\n    <tr>\n      <th>...</th>\n      <td>...</td>\n      <td>...</td>\n    </tr>\n    <tr>\n      <th>244</th>\n      <td>Wallis and Futuna</td>\n      <td>Oceania</td>\n    </tr>\n    <tr>\n      <th>245</th>\n      <td>Western Sahara</td>\n      <td>Africa</td>\n    </tr>\n    <tr>\n      <th>246</th>\n      <td>Yemen</td>\n      <td>Asia</td>\n    </tr>\n    <tr>\n      <th>247</th>\n      <td>Zambia</td>\n      <td>Africa</td>\n    </tr>\n    <tr>\n      <th>248</th>\n      <td>Zimbabwe</td>\n      <td>Africa</td>\n    </tr>\n  </tbody>\n</table>\n<p>249 rows × 2 columns</p>\n</div>"
     },
     "execution_count": 11,
     "metadata": {},
     "output_type": "execute_result"
    }
   ],
   "source": [
    "country_list_url = \"https://raw.githubusercontent.com/lukes/ISO-3166-Countries-with-Regional-Codes/master/all/all.csv\"\n",
    "df_country = pd.read_csv(country_list_url)\n",
    "df_country = df_country[[\"name\", \"region\"]]\n",
    "df_country.columns = [\"Country\", \"Region\"]\n",
    "df_country = df_country.fillna(\"Undefined\")\n",
    "df_country"
   ],
   "metadata": {
    "collapsed": false,
    "pycharm": {
     "name": "#%%\n"
    }
   }
  },
  {
   "cell_type": "markdown",
   "source": [
    "# Define functions"
   ],
   "metadata": {
    "collapsed": false,
    "pycharm": {
     "name": "#%% md\n"
    }
   }
  },
  {
   "cell_type": "code",
   "execution_count": 12,
   "outputs": [],
   "source": [
    "def extract_external_link(cfp_link):\n",
    "    page = requests.get(cfp_link)\n",
    "    result = BeautifulSoup(page.content, \"html.parser\")\n",
    "\n",
    "    link = result.find(lambda tag: tag.name == \"td\" and \"Link\" in tag.text)\n",
    "    link = link.text.strip()[6:]\n",
    "\n",
    "    return link"
   ],
   "metadata": {
    "collapsed": false,
    "pycharm": {
     "name": "#%%\n"
    }
   }
  },
  {
   "cell_type": "code",
   "execution_count": 13,
   "outputs": [],
   "source": [
    "def extract_cfp_link(query):\n",
    "    crawled_tables = pd.read_html(query, extract_links = \"body\")\n",
    "    if len(crawled_tables) < 6:\n",
    "        df_filtered = None\n",
    "        print(\"No event found!\")\n",
    "    else:\n",
    "        # Extract the CFP table\n",
    "        df = crawled_tables[3]\n",
    "\n",
    "        # Rename columns\n",
    "        df.columns = [\"Event\", \"When\", \"Where\", \"Deadline\"]\n",
    "        df = df[1:]\n",
    "\n",
    "        # Extract links\n",
    "        df[\"Abbreviation\"] = df[\"Event\"].apply(lambda x: x[0])\n",
    "        df[\"Link\"] = df[\"Event\"].apply(lambda x: \"http://www.wikicfp.com\" + x[1])\n",
    "        df_filtered = df[[\"Abbreviation\", \"Link\"]]\n",
    "\n",
    "        # Drop duplicates\n",
    "        df_filtered = df_filtered.drop_duplicates()\n",
    "\n",
    "        # Extract external links\n",
    "        df_filtered[\"CFP Link\"] = df_filtered[\"Link\"].apply(extract_external_link)\n",
    "        df_filtered = df_filtered[[\"Abbreviation\", \"CFP Link\"]]\n",
    "\n",
    "        df_filtered = df_filtered.drop_duplicates()\n",
    "\n",
    "    return df_filtered\n",
    "\n",
    "# TO-DO: solve cases where location is university or country code (USA)\n",
    "def extract_country(location_name):\n",
    "    \"\"\"\n",
    "\n",
    "    :param location_name:\n",
    "    :return:\n",
    "    \"\"\"\n",
    "    country_name = location_name\n",
    "    if location_name is not np.NAN:\n",
    "        if \",\" in location_name:\n",
    "            country_name = location_name.split(\",\")[-1].strip()\n",
    "    return country_name"
   ],
   "metadata": {
    "collapsed": false,
    "pycharm": {
     "name": "#%%\n"
    }
   }
  },
  {
   "cell_type": "code",
   "execution_count": 14,
   "outputs": [],
   "source": [
    "def main_crawler(query):\n",
    "    # Get all tables\n",
    "    tables = pd.read_html(query)\n",
    "\n",
    "    df_cfp = None\n",
    "    if len(tables) < 5:\n",
    "        print(\"No CFP found!\")\n",
    "    else:\n",
    "        # Extract the CFP table\n",
    "        df_cfp = tables[2]\n",
    "        df_cfp.columns = [\"Event\", \"When\", \"Where\", \"Deadline\"]\n",
    "        df_cfp = df_cfp[1:]\n",
    "        df_cfp = df_cfp.drop_duplicates()\n",
    "\n",
    "    full_name_arr = []\n",
    "    time_arr = []\n",
    "    location_arr = []\n",
    "    deadline_arr = []\n",
    "    type_arr = []\n",
    "    #link  # To be added\n",
    "\n",
    "    event_arr = df_cfp[\"Event\"].unique()\n",
    "\n",
    "    for event in event_arr:\n",
    "        df_cfp_filtered = df_cfp[df_cfp[\"Event\"] == event]\n",
    "\n",
    "        full_name = df_cfp_filtered.iloc[0, 1]\n",
    "        full_name_arr.append(full_name)\n",
    "\n",
    "        time_arr.append(df_cfp_filtered.iloc[1, 1])\n",
    "\n",
    "        location_arr.append(df_cfp_filtered.iloc[1, 2])\n",
    "\n",
    "        deadline_arr.append(df_cfp_filtered.iloc[1, 3])\n",
    "\n",
    "    df_cfp_cleaned = pd.DataFrame({\n",
    "        \"Abbreviation\": event_arr,\n",
    "        \"Name\": full_name_arr,\n",
    "        \"Time\": time_arr,\n",
    "        \"Location\": location_arr,\n",
    "        \"Deadline\": deadline_arr\n",
    "    })\n",
    "\n",
    "    # Add country name\n",
    "    df_cfp_cleaned[\"Country\"] = df_cfp_cleaned[\"Location\"].apply(extract_country)\n",
    "    df_cfp_cleaned = pd.merge(df_cfp_cleaned, df_country, on = \"Country\", how = \"left\")\n",
    "\n",
    "    # Add links\n",
    "    df_links = extract_cfp_link(query)\n",
    "    df_final = pd.merge(df_cfp_cleaned, df_links, on = \"Abbreviation\", how = \"left\")\n",
    "\n",
    "    # Fill NaNs\n",
    "    df_final = df_final.fillna(\"Undefined\")\n",
    "\n",
    "    # Sort columns\n",
    "    df_final = df_final[[\"Abbreviation\", \"Name\", \"Time\", \"Deadline\", \"Location\", \"Country\", \"Region\", \"CFP Link\"]]\n",
    "\n",
    "    return df_final"
   ],
   "metadata": {
    "collapsed": false,
    "pycharm": {
     "name": "#%%\n"
    }
   }
  },
  {
   "cell_type": "markdown",
   "source": [
    "# Crawl data"
   ],
   "metadata": {
    "collapsed": false,
    "pycharm": {
     "name": "#%% md\n"
    }
   }
  },
  {
   "cell_type": "markdown",
   "source": [
    "### TO-DO:\n",
    "- Add a filter: by location, by time\n",
    "- Optimize the query (make it faster)"
   ],
   "metadata": {
    "collapsed": false,
    "pycharm": {
     "name": "#%% md\n"
    }
   }
  },
  {
   "cell_type": "code",
   "execution_count": 15,
   "outputs": [
    {
     "data": {
      "text/plain": "'http://www.wikicfp.com/cfp/servlet/tool.search?q=process+control%2C+manufacturing&year=t'"
     },
     "execution_count": 15,
     "metadata": {},
     "output_type": "execute_result"
    }
   ],
   "source": [
    "# Define queries\n",
    "keywords = \"process control, manufacturing\"\n",
    "\n",
    "if \",\" in keywords:\n",
    "    keyword_arr = keywords.split(',')\n",
    "    keyword_arr = [text.strip().replace(\" \", \"+\") for text in keyword_arr]\n",
    "    keyword = \"%2C+\".join(keyword_arr)\n",
    "else:\n",
    "    keyword = keywords\n",
    "\n",
    "year = \"t\" # t = this year, n = next year, f = from this year onward, a = all\n",
    "query = \"http://www.wikicfp.com/cfp/servlet/tool.search?q={}&year={}\".format(keyword, year)\n",
    "query"
   ],
   "metadata": {
    "collapsed": false,
    "pycharm": {
     "name": "#%%\n"
    }
   }
  },
  {
   "cell_type": "code",
   "execution_count": 16,
   "outputs": [
    {
     "name": "stderr",
     "output_type": "stream",
     "text": [
      "C:\\Users\\Nguyen.Duy\\AppData\\Local\\Temp\\ipykernel_6024\\2440027579.py:15: SettingWithCopyWarning: \n",
      "A value is trying to be set on a copy of a slice from a DataFrame.\n",
      "Try using .loc[row_indexer,col_indexer] = value instead\n",
      "\n",
      "See the caveats in the documentation: https://pandas.pydata.org/pandas-docs/stable/user_guide/indexing.html#returning-a-view-versus-a-copy\n",
      "  df[\"Abbreviation\"] = df[\"Event\"].apply(lambda x: x[0])\n",
      "C:\\Users\\Nguyen.Duy\\AppData\\Local\\Temp\\ipykernel_6024\\2440027579.py:16: SettingWithCopyWarning: \n",
      "A value is trying to be set on a copy of a slice from a DataFrame.\n",
      "Try using .loc[row_indexer,col_indexer] = value instead\n",
      "\n",
      "See the caveats in the documentation: https://pandas.pydata.org/pandas-docs/stable/user_guide/indexing.html#returning-a-view-versus-a-copy\n",
      "  df[\"Link\"] = df[\"Event\"].apply(lambda x: \"http://www.wikicfp.com\" + x[1])\n"
     ]
    }
   ],
   "source": [
    "df_output = main_crawler(query)"
   ],
   "metadata": {
    "collapsed": false,
    "pycharm": {
     "name": "#%%\n"
    }
   }
  },
  {
   "cell_type": "code",
   "execution_count": 17,
   "outputs": [
    {
     "data": {
      "text/plain": "               Abbreviation  \\\n0                 CRET 2023   \n1                 DKMP 2023   \n2                  CDC 2023   \n3               SIUSAI 2023   \n4               ICoCTA 2023   \n5        Machines - SI 2023   \n6                CoEEB 2023   \n7               SOFTPA 2023   \n8            ICACR--Ei 2023   \n9                 ICDM 2023   \n10         IEEE ICoIAS 2023   \n11        CompAuto--EI 2023   \n12            CRET--Ei 2023   \n13                 BPM 2023   \n14                WPCE 2023   \n15               ICMMM 2023   \n16               IEISC 2023   \n17           IEEE IRCE 2023   \n18     AMRMT-Macau SAR 2023   \n19               ICRSA 2023   \n20  Singapore | ICNERA 2023   \n21                ICCS 2023   \n22          ICITES--EI 2023   \n23            MEVE--Ei 2023   \n24                MMIE 2023   \n25               AMRMT 2023   \n26               ICACR 2023   \n27               ICHST 2023   \n28           ICAME--Ei 2023   \n29               ICAMM 2023   \n30               BPMDS 2023   \n31              ICAITA 2023   \n32                CDKP 2023   \n33               ICEIM 2023   \n34            CGEE--Ei 2023   \n35               ICIIL 2023   \n36           ICIIL--EI 2023   \n37              ICMEAS 2023   \n38        China-ICMEAS 2023   \n39               ICACM 2023   \n40               ICNST 2023   \n41                AMMM 2023   \n42           ICMMM--Ei 2023   \n43            ACM RSVT 2023   \n44              ICSREE 2023   \n45    JSEP SI on SQ4MS 2023   \n46     IEEE I&CPS Asia 2023   \n47                ICAC 2023   \n48                IRCE 2023   \n\n                                                 Name  \\\n0   2023 International Conference on Control, Robo...   \n1   11th International Conference on Data Mining &...   \n2             IEEE Conference on Decision and Control   \n3   2023 International Symposium on Intelligent Un...   \n4   2023 4th International Conference on Control T...   \n5   Special Issue - Advances in Digital Twin Techn...   \n6   2023 International Joint Conference on Environ...   \n7   2nd International Conference on Emerging Pract...   \n8   2023 the 7th International Conference on Autom...   \n9   2023 3rd International Conference on Digital M...   \n10  IEEE--2023 the 6th International Conference on...   \n11  2023 the 3rd International Conference on Compu...   \n12  2023 International Conference on Control, Robo...   \n13                        Business Process Management   \n14  2023 8th International Conference on Water Pol...   \n15  2023 10th International Conference on Mechanic...   \n16  Industrial Electronics and Intelligent Systems...   \n17  IEEE--2023 The 6th International Conference on...   \n18  2023 7th International Conference on Advanced ...   \n19  2023 the 6th International Conference on Robot...   \n20  2023 4th International Conference on New Energ...   \n21  2023 5th International Conference on Circuits ...   \n22  2023 3rd International Conference on Intellige...   \n23  2023 the 5th International Conference on Mecha...   \n24  2023 6th International Conference on Mechanica...   \n25  2023 7th International Conference on Advanced ...   \n26  2023 the 7th International Conference on Autom...   \n27  2023 5th International Conference on Hardware ...   \n28  2023 The 4th International Conference on Autom...   \n29  2023 7th International Conference on Advanced ...   \n30  Business Process Modeling, Development, and Su...   \n31  12th International Conference on Advanced Info...   \n32  12th International Conference on Data Mining &...   \n33  2023 the 12th International Conference on Engi...   \n34  2023 4th International Conference on Clean and...   \n35  2023 9th International Conference on Innovatio...   \n36  2023 9th International Conference on Innovatio...   \n37  2023 9th International Conference on Mechanica...   \n38  2023 9th International Conference on Mechanica...   \n39  2023 6th International Conference on Advanced ...   \n40  2023 The 6th International Conference on Nano ...   \n41  2023 5th International Conference on Advances ...   \n42  2023 10th International Conference on Mechanic...   \n43  ACM--2023 The 4th International Conference on ...   \n44  2023 8th International Conference on Sustainab...   \n45  Special Issue on “Software Quality for Modern ...   \n46  2023 IEEE IAS Industrial and Commercial Power ...   \n47  The 28th IEEE International Conference on Auto...   \n48  IEEE--2023 The 6th International Conference on...   \n\n                           Time                     Deadline  \\\n0   Jul 14, 2023 - Jul 16, 2023                  Mar 1, 2023   \n1   Mar 18, 2023 - Mar 19, 2023                  Jan 7, 2023   \n2   Dec 13, 2023 - Dec 15, 2023                 Mar 17, 2023   \n3   Apr 21, 2023 - Apr 23, 2023                 Mar 20, 2023   \n4   Oct 20, 2023 - Oct 22, 2023                 Sep 10, 2023   \n5    Nov 9, 2022 - Dec 31, 2023                 Dec 31, 2023   \n6   May 19, 2023 - May 21, 2023                 Mar 31, 2023   \n7   Apr 29, 2023 - Apr 30, 2023                  Jan 7, 2023   \n8     Aug 4, 2023 - Aug 6, 2023                 Mar 15, 2023   \n9   Mar 24, 2023 - Mar 26, 2023                 Jan 25, 2023   \n10  Sep 22, 2023 - Sep 24, 2023                 May 31, 2023   \n11  Jul 14, 2023 - Jul 16, 2023                  Mar 1, 2023   \n12  Jul 14, 2023 - Jul 16, 2023                  Mar 1, 2023   \n13  Sep 11, 2023 - Sep 15, 2023  Mar 22, 2023 (Mar 15, 2023)   \n14    Nov 1, 2023 - Nov 3, 2023                  May 1, 2023   \n15  Aug 18, 2023 - Aug 20, 2023                 Mar 20, 2023   \n16  Sep 22, 2023 - Sep 24, 2023                 Mar 20, 2023   \n17    Aug 4, 2023 - Aug 6, 2023                 Mar 20, 2023   \n18  Sep 22, 2023 - Sep 24, 2023                 Mar 25, 2023   \n19  Sep 22, 2023 - Sep 24, 2023                  May 1, 2023   \n20   Nov 9, 2023 - Nov 11, 2023                 May 25, 2023   \n21  Oct 27, 2023 - Oct 30, 2023                 May 10, 2023   \n22  Oct 27, 2023 - Oct 30, 2023                 May 10, 2023   \n23  Sep 15, 2023 - Sep 17, 2023                 Apr 25, 2023   \n24  Aug 23, 2023 - Aug 25, 2023                 Apr 20, 2023   \n25  Sep 22, 2023 - Sep 24, 2023                 Mar 25, 2023   \n26    Aug 4, 2023 - Aug 6, 2023                 Mar 15, 2023   \n27   Jul 8, 2023 - Jul 10, 2023                 Feb 10, 2023   \n28  Jun 28, 2023 - Jun 30, 2023                 Feb 15, 2023   \n29  Jul 11, 2023 - Jul 13, 2023                 Feb 25, 2023   \n30  Jun 12, 2023 - Jun 13, 2023                 Jan 15, 2023   \n31  Mar 25, 2023 - Mar 26, 2023                  Jan 7, 2023   \n32  Mar 25, 2023 - Mar 26, 2023                  Jan 7, 2023   \n33    Sep 1, 2023 - Sep 3, 2023                 Apr 10, 2023   \n34  Aug 26, 2023 - Aug 28, 2023                 Apr 15, 2023   \n35  Aug 25, 2023 - Aug 27, 2023                 Apr 10, 2023   \n36  Aug 25, 2023 - Aug 27, 2023                 Apr 10, 2023   \n37  Oct 13, 2023 - Oct 15, 2023                 Apr 20, 2023   \n38  Oct 13, 2023 - Oct 15, 2023                 Apr 20, 2023   \n39  Aug 23, 2023 - Aug 25, 2023                 Apr 10, 2023   \n40  Aug 23, 2023 - Aug 25, 2023                 Apr 10, 2023   \n41    Sep 1, 2023 - Sep 3, 2023                 Mar 30, 2023   \n42  Aug 18, 2023 - Aug 20, 2023                 Mar 20, 2023   \n43    Aug 4, 2023 - Aug 6, 2023                 Mar 20, 2023   \n44  May 11, 2023 - May 13, 2023                 Jan 30, 2023   \n45                    Undefined                 Dec 15, 2022   \n46  Jul 14, 2023 - Jul 16, 2023                 Mar 15, 2023   \n47   Aug 30, 2023 - Sep 1, 2023                 Mar 30, 2023   \n48    Aug 4, 2023 - Aug 6, 2023                 Mar 20, 2023   \n\n                             Location             Country     Region  \\\n0                       Paris, France              France     Europe   \n1                     Vienna, Austria             Austria     Europe   \n2         Marina Bay Sands, Singapore           Singapore       Asia   \n3                     Shenzhen, China               China       Asia   \n4               Xiamen, Fujian, China               China       Asia   \n5                           Undefined           Undefined  Undefined   \n6                   Stockholm, Sweden              Sweden     Europe   \n7                 Copenhagen, Denmark             Denmark     Europe   \n8              Kuala Lumpur, Malaysia            Malaysia       Asia   \n9           Ho Chi Minh City, Vietnam             Vietnam  Undefined   \n10          Qinhuangdao, Hebei, China               China       Asia   \n11                      Paris, France              France     Europe   \n12                      Paris, France              France     Europe   \n13                 Utrecht University  Utrecht University  Undefined   \n14                 Matsue City, Japan               Japan       Asia   \n15             Washington, D. C., USA                 USA  Undefined   \n16                    Shanghai, China               China       Asia   \n17                       Jilin, China               China       Asia   \n18                         Macau, SAR                 SAR  Undefined   \n19                       Wuhan, China               China       Asia   \n20                          Singapore           Singapore       Asia   \n21                      Huzhou, China               China       Asia   \n22                      Huzhou, China               China       Asia   \n23                     Nanjing, China               China       Asia   \n24     Hosei University, Tokyo, Japan               Japan       Asia   \n25                         Macau, SAR                 SAR  Undefined   \n26             Kuala Lumpur, Malaysia            Malaysia       Asia   \n27                        Wuxi, China               China       Asia   \n28                    Quanzhou, China               China       Asia   \n29          Cambridge, United Kingdom      United Kingdom  Undefined   \n30                           Zaragoza            Zaragoza  Undefined   \n31                  Sydney, Australia           Australia    Oceania   \n32                  Sydney, Australia           Australia    Oceania   \n33                       Osaka, Japan               Japan       Asia   \n34                     Ankara, Turkey              Turkey       Asia   \n35                       Macau, China               China       Asia   \n36                       Macau, China               China       Asia   \n37                       Xi'an, China               China       Asia   \n38                       Xi'an, China               China       Asia   \n39     Hosei University, Tokyo, Japan               Japan       Asia   \n40     Hosei University, Tokyo, Japan               Japan       Asia   \n41                       Osaka, Japan               Japan       Asia   \n42             Washington, D. C., USA                 USA  Undefined   \n43  Jilin City, Jilin Province, China               China       Asia   \n44                       Nice, France              France     Europe   \n45                          Undefined           Undefined  Undefined   \n46                   Chongqing, China               China       Asia   \n47   Aston University, Birmingham, UK                  UK  Undefined   \n48                       Jilin, China               China       Asia   \n\n                                             CFP Link  \n0                                http://www.cret.net/  \n1                     http://ccsea2023.org/dkmp/index  \n2                        https://cdc2023.ieeecss.org/  \n3                              http://www.siusai.org/  \n4                              http://www.icocta.org/  \n5   https://www.mdpi.com/journal/machines/special_...  \n6                               http://www.coeeb.org/  \n7                  https://csita2023.org/softpa/index  \n8                               http://www.icacr.org/  \n9                                     http://icdm.net  \n10                               http://www.icias.org  \n11                               http://www.icca.net/  \n12                               http://www.cret.net/  \n13                       https://bpm2023.sites.uu.nl/  \n14                              https://www.wpce.org/  \n15                              http://www.icmmm.org/  \n16                              http://www.ieisc.org/  \n17                                http://www.irce.org  \n18                             https://www.amrmt.org/  \n19                              http://www.icrsa.org/  \n20                            https://www.icnera.org/  \n21                                http://www.iccs.org  \n22                                 http://icites.net/  \n23                               http://www.meve.net/  \n24                                http://www.mmie.org  \n25                             https://www.atces.org/  \n26                              http://www.icacr.org/  \n27                              http://www.ichst.org/  \n28                               http://www.icame.org  \n29                              http://www.icamm.org/  \n30                              http://www.bpmds.dorg  \n31                   https://www.icaita2023.org/index  \n32              https://www.icaita2023.org/cdkp/index  \n33                              http://www.iceim.org/  \n34                               http://www.cgee.org/  \n35                              http://www.iciil.org/  \n36                              http://www.iciil.org/  \n37                            https://www.icmeas.org/  \n38                            https://www.icmeas.org/  \n39                               http://www.icacm.org  \n40                               http://www.icnst.org  \n41                                http://www.ammm.org  \n42                              http://www.icmmm.org/  \n43                                http://www.rsvt.org  \n44                              http://www.icsree.com  \n45  https://onlinelibrary.wiley.com/pb-assets/asse...  \n46                         http://ieee-icps.com/2023/  \n47                         https://cacsuk.co.uk/icac/  \n48                                http://www.irce.org  ",
      "text/html": "<div>\n<style scoped>\n    .dataframe tbody tr th:only-of-type {\n        vertical-align: middle;\n    }\n\n    .dataframe tbody tr th {\n        vertical-align: top;\n    }\n\n    .dataframe thead th {\n        text-align: right;\n    }\n</style>\n<table border=\"1\" class=\"dataframe\">\n  <thead>\n    <tr style=\"text-align: right;\">\n      <th></th>\n      <th>Abbreviation</th>\n      <th>Name</th>\n      <th>Time</th>\n      <th>Deadline</th>\n      <th>Location</th>\n      <th>Country</th>\n      <th>Region</th>\n      <th>CFP Link</th>\n    </tr>\n  </thead>\n  <tbody>\n    <tr>\n      <th>0</th>\n      <td>CRET 2023</td>\n      <td>2023 International Conference on Control, Robo...</td>\n      <td>Jul 14, 2023 - Jul 16, 2023</td>\n      <td>Mar 1, 2023</td>\n      <td>Paris, France</td>\n      <td>France</td>\n      <td>Europe</td>\n      <td>http://www.cret.net/</td>\n    </tr>\n    <tr>\n      <th>1</th>\n      <td>DKMP 2023</td>\n      <td>11th International Conference on Data Mining &amp;...</td>\n      <td>Mar 18, 2023 - Mar 19, 2023</td>\n      <td>Jan 7, 2023</td>\n      <td>Vienna, Austria</td>\n      <td>Austria</td>\n      <td>Europe</td>\n      <td>http://ccsea2023.org/dkmp/index</td>\n    </tr>\n    <tr>\n      <th>2</th>\n      <td>CDC 2023</td>\n      <td>IEEE Conference on Decision and Control</td>\n      <td>Dec 13, 2023 - Dec 15, 2023</td>\n      <td>Mar 17, 2023</td>\n      <td>Marina Bay Sands, Singapore</td>\n      <td>Singapore</td>\n      <td>Asia</td>\n      <td>https://cdc2023.ieeecss.org/</td>\n    </tr>\n    <tr>\n      <th>3</th>\n      <td>SIUSAI 2023</td>\n      <td>2023 International Symposium on Intelligent Un...</td>\n      <td>Apr 21, 2023 - Apr 23, 2023</td>\n      <td>Mar 20, 2023</td>\n      <td>Shenzhen, China</td>\n      <td>China</td>\n      <td>Asia</td>\n      <td>http://www.siusai.org/</td>\n    </tr>\n    <tr>\n      <th>4</th>\n      <td>ICoCTA 2023</td>\n      <td>2023 4th International Conference on Control T...</td>\n      <td>Oct 20, 2023 - Oct 22, 2023</td>\n      <td>Sep 10, 2023</td>\n      <td>Xiamen, Fujian, China</td>\n      <td>China</td>\n      <td>Asia</td>\n      <td>http://www.icocta.org/</td>\n    </tr>\n    <tr>\n      <th>5</th>\n      <td>Machines - SI 2023</td>\n      <td>Special Issue - Advances in Digital Twin Techn...</td>\n      <td>Nov 9, 2022 - Dec 31, 2023</td>\n      <td>Dec 31, 2023</td>\n      <td>Undefined</td>\n      <td>Undefined</td>\n      <td>Undefined</td>\n      <td>https://www.mdpi.com/journal/machines/special_...</td>\n    </tr>\n    <tr>\n      <th>6</th>\n      <td>CoEEB 2023</td>\n      <td>2023 International Joint Conference on Environ...</td>\n      <td>May 19, 2023 - May 21, 2023</td>\n      <td>Mar 31, 2023</td>\n      <td>Stockholm, Sweden</td>\n      <td>Sweden</td>\n      <td>Europe</td>\n      <td>http://www.coeeb.org/</td>\n    </tr>\n    <tr>\n      <th>7</th>\n      <td>SOFTPA 2023</td>\n      <td>2nd International Conference on Emerging Pract...</td>\n      <td>Apr 29, 2023 - Apr 30, 2023</td>\n      <td>Jan 7, 2023</td>\n      <td>Copenhagen, Denmark</td>\n      <td>Denmark</td>\n      <td>Europe</td>\n      <td>https://csita2023.org/softpa/index</td>\n    </tr>\n    <tr>\n      <th>8</th>\n      <td>ICACR--Ei 2023</td>\n      <td>2023 the 7th International Conference on Autom...</td>\n      <td>Aug 4, 2023 - Aug 6, 2023</td>\n      <td>Mar 15, 2023</td>\n      <td>Kuala Lumpur, Malaysia</td>\n      <td>Malaysia</td>\n      <td>Asia</td>\n      <td>http://www.icacr.org/</td>\n    </tr>\n    <tr>\n      <th>9</th>\n      <td>ICDM 2023</td>\n      <td>2023 3rd International Conference on Digital M...</td>\n      <td>Mar 24, 2023 - Mar 26, 2023</td>\n      <td>Jan 25, 2023</td>\n      <td>Ho Chi Minh City, Vietnam</td>\n      <td>Vietnam</td>\n      <td>Undefined</td>\n      <td>http://icdm.net</td>\n    </tr>\n    <tr>\n      <th>10</th>\n      <td>IEEE ICoIAS 2023</td>\n      <td>IEEE--2023 the 6th International Conference on...</td>\n      <td>Sep 22, 2023 - Sep 24, 2023</td>\n      <td>May 31, 2023</td>\n      <td>Qinhuangdao, Hebei, China</td>\n      <td>China</td>\n      <td>Asia</td>\n      <td>http://www.icias.org</td>\n    </tr>\n    <tr>\n      <th>11</th>\n      <td>CompAuto--EI 2023</td>\n      <td>2023 the 3rd International Conference on Compu...</td>\n      <td>Jul 14, 2023 - Jul 16, 2023</td>\n      <td>Mar 1, 2023</td>\n      <td>Paris, France</td>\n      <td>France</td>\n      <td>Europe</td>\n      <td>http://www.icca.net/</td>\n    </tr>\n    <tr>\n      <th>12</th>\n      <td>CRET--Ei 2023</td>\n      <td>2023 International Conference on Control, Robo...</td>\n      <td>Jul 14, 2023 - Jul 16, 2023</td>\n      <td>Mar 1, 2023</td>\n      <td>Paris, France</td>\n      <td>France</td>\n      <td>Europe</td>\n      <td>http://www.cret.net/</td>\n    </tr>\n    <tr>\n      <th>13</th>\n      <td>BPM 2023</td>\n      <td>Business Process Management</td>\n      <td>Sep 11, 2023 - Sep 15, 2023</td>\n      <td>Mar 22, 2023 (Mar 15, 2023)</td>\n      <td>Utrecht University</td>\n      <td>Utrecht University</td>\n      <td>Undefined</td>\n      <td>https://bpm2023.sites.uu.nl/</td>\n    </tr>\n    <tr>\n      <th>14</th>\n      <td>WPCE 2023</td>\n      <td>2023 8th International Conference on Water Pol...</td>\n      <td>Nov 1, 2023 - Nov 3, 2023</td>\n      <td>May 1, 2023</td>\n      <td>Matsue City, Japan</td>\n      <td>Japan</td>\n      <td>Asia</td>\n      <td>https://www.wpce.org/</td>\n    </tr>\n    <tr>\n      <th>15</th>\n      <td>ICMMM 2023</td>\n      <td>2023 10th International Conference on Mechanic...</td>\n      <td>Aug 18, 2023 - Aug 20, 2023</td>\n      <td>Mar 20, 2023</td>\n      <td>Washington, D. C., USA</td>\n      <td>USA</td>\n      <td>Undefined</td>\n      <td>http://www.icmmm.org/</td>\n    </tr>\n    <tr>\n      <th>16</th>\n      <td>IEISC 2023</td>\n      <td>Industrial Electronics and Intelligent Systems...</td>\n      <td>Sep 22, 2023 - Sep 24, 2023</td>\n      <td>Mar 20, 2023</td>\n      <td>Shanghai, China</td>\n      <td>China</td>\n      <td>Asia</td>\n      <td>http://www.ieisc.org/</td>\n    </tr>\n    <tr>\n      <th>17</th>\n      <td>IEEE IRCE 2023</td>\n      <td>IEEE--2023 The 6th International Conference on...</td>\n      <td>Aug 4, 2023 - Aug 6, 2023</td>\n      <td>Mar 20, 2023</td>\n      <td>Jilin, China</td>\n      <td>China</td>\n      <td>Asia</td>\n      <td>http://www.irce.org</td>\n    </tr>\n    <tr>\n      <th>18</th>\n      <td>AMRMT-Macau SAR 2023</td>\n      <td>2023 7th International Conference on Advanced ...</td>\n      <td>Sep 22, 2023 - Sep 24, 2023</td>\n      <td>Mar 25, 2023</td>\n      <td>Macau, SAR</td>\n      <td>SAR</td>\n      <td>Undefined</td>\n      <td>https://www.amrmt.org/</td>\n    </tr>\n    <tr>\n      <th>19</th>\n      <td>ICRSA 2023</td>\n      <td>2023 the 6th International Conference on Robot...</td>\n      <td>Sep 22, 2023 - Sep 24, 2023</td>\n      <td>May 1, 2023</td>\n      <td>Wuhan, China</td>\n      <td>China</td>\n      <td>Asia</td>\n      <td>http://www.icrsa.org/</td>\n    </tr>\n    <tr>\n      <th>20</th>\n      <td>Singapore | ICNERA 2023</td>\n      <td>2023 4th International Conference on New Energ...</td>\n      <td>Nov 9, 2023 - Nov 11, 2023</td>\n      <td>May 25, 2023</td>\n      <td>Singapore</td>\n      <td>Singapore</td>\n      <td>Asia</td>\n      <td>https://www.icnera.org/</td>\n    </tr>\n    <tr>\n      <th>21</th>\n      <td>ICCS 2023</td>\n      <td>2023 5th International Conference on Circuits ...</td>\n      <td>Oct 27, 2023 - Oct 30, 2023</td>\n      <td>May 10, 2023</td>\n      <td>Huzhou, China</td>\n      <td>China</td>\n      <td>Asia</td>\n      <td>http://www.iccs.org</td>\n    </tr>\n    <tr>\n      <th>22</th>\n      <td>ICITES--EI 2023</td>\n      <td>2023 3rd International Conference on Intellige...</td>\n      <td>Oct 27, 2023 - Oct 30, 2023</td>\n      <td>May 10, 2023</td>\n      <td>Huzhou, China</td>\n      <td>China</td>\n      <td>Asia</td>\n      <td>http://icites.net/</td>\n    </tr>\n    <tr>\n      <th>23</th>\n      <td>MEVE--Ei 2023</td>\n      <td>2023 the 5th International Conference on Mecha...</td>\n      <td>Sep 15, 2023 - Sep 17, 2023</td>\n      <td>Apr 25, 2023</td>\n      <td>Nanjing, China</td>\n      <td>China</td>\n      <td>Asia</td>\n      <td>http://www.meve.net/</td>\n    </tr>\n    <tr>\n      <th>24</th>\n      <td>MMIE 2023</td>\n      <td>2023 6th International Conference on Mechanica...</td>\n      <td>Aug 23, 2023 - Aug 25, 2023</td>\n      <td>Apr 20, 2023</td>\n      <td>Hosei University, Tokyo, Japan</td>\n      <td>Japan</td>\n      <td>Asia</td>\n      <td>http://www.mmie.org</td>\n    </tr>\n    <tr>\n      <th>25</th>\n      <td>AMRMT 2023</td>\n      <td>2023 7th International Conference on Advanced ...</td>\n      <td>Sep 22, 2023 - Sep 24, 2023</td>\n      <td>Mar 25, 2023</td>\n      <td>Macau, SAR</td>\n      <td>SAR</td>\n      <td>Undefined</td>\n      <td>https://www.atces.org/</td>\n    </tr>\n    <tr>\n      <th>26</th>\n      <td>ICACR 2023</td>\n      <td>2023 the 7th International Conference on Autom...</td>\n      <td>Aug 4, 2023 - Aug 6, 2023</td>\n      <td>Mar 15, 2023</td>\n      <td>Kuala Lumpur, Malaysia</td>\n      <td>Malaysia</td>\n      <td>Asia</td>\n      <td>http://www.icacr.org/</td>\n    </tr>\n    <tr>\n      <th>27</th>\n      <td>ICHST 2023</td>\n      <td>2023 5th International Conference on Hardware ...</td>\n      <td>Jul 8, 2023 - Jul 10, 2023</td>\n      <td>Feb 10, 2023</td>\n      <td>Wuxi, China</td>\n      <td>China</td>\n      <td>Asia</td>\n      <td>http://www.ichst.org/</td>\n    </tr>\n    <tr>\n      <th>28</th>\n      <td>ICAME--Ei 2023</td>\n      <td>2023 The 4th International Conference on Autom...</td>\n      <td>Jun 28, 2023 - Jun 30, 2023</td>\n      <td>Feb 15, 2023</td>\n      <td>Quanzhou, China</td>\n      <td>China</td>\n      <td>Asia</td>\n      <td>http://www.icame.org</td>\n    </tr>\n    <tr>\n      <th>29</th>\n      <td>ICAMM 2023</td>\n      <td>2023 7th International Conference on Advanced ...</td>\n      <td>Jul 11, 2023 - Jul 13, 2023</td>\n      <td>Feb 25, 2023</td>\n      <td>Cambridge, United Kingdom</td>\n      <td>United Kingdom</td>\n      <td>Undefined</td>\n      <td>http://www.icamm.org/</td>\n    </tr>\n    <tr>\n      <th>30</th>\n      <td>BPMDS 2023</td>\n      <td>Business Process Modeling, Development, and Su...</td>\n      <td>Jun 12, 2023 - Jun 13, 2023</td>\n      <td>Jan 15, 2023</td>\n      <td>Zaragoza</td>\n      <td>Zaragoza</td>\n      <td>Undefined</td>\n      <td>http://www.bpmds.dorg</td>\n    </tr>\n    <tr>\n      <th>31</th>\n      <td>ICAITA 2023</td>\n      <td>12th International Conference on Advanced Info...</td>\n      <td>Mar 25, 2023 - Mar 26, 2023</td>\n      <td>Jan 7, 2023</td>\n      <td>Sydney, Australia</td>\n      <td>Australia</td>\n      <td>Oceania</td>\n      <td>https://www.icaita2023.org/index</td>\n    </tr>\n    <tr>\n      <th>32</th>\n      <td>CDKP 2023</td>\n      <td>12th International Conference on Data Mining &amp;...</td>\n      <td>Mar 25, 2023 - Mar 26, 2023</td>\n      <td>Jan 7, 2023</td>\n      <td>Sydney, Australia</td>\n      <td>Australia</td>\n      <td>Oceania</td>\n      <td>https://www.icaita2023.org/cdkp/index</td>\n    </tr>\n    <tr>\n      <th>33</th>\n      <td>ICEIM 2023</td>\n      <td>2023 the 12th International Conference on Engi...</td>\n      <td>Sep 1, 2023 - Sep 3, 2023</td>\n      <td>Apr 10, 2023</td>\n      <td>Osaka, Japan</td>\n      <td>Japan</td>\n      <td>Asia</td>\n      <td>http://www.iceim.org/</td>\n    </tr>\n    <tr>\n      <th>34</th>\n      <td>CGEE--Ei 2023</td>\n      <td>2023 4th International Conference on Clean and...</td>\n      <td>Aug 26, 2023 - Aug 28, 2023</td>\n      <td>Apr 15, 2023</td>\n      <td>Ankara, Turkey</td>\n      <td>Turkey</td>\n      <td>Asia</td>\n      <td>http://www.cgee.org/</td>\n    </tr>\n    <tr>\n      <th>35</th>\n      <td>ICIIL 2023</td>\n      <td>2023 9th International Conference on Innovatio...</td>\n      <td>Aug 25, 2023 - Aug 27, 2023</td>\n      <td>Apr 10, 2023</td>\n      <td>Macau, China</td>\n      <td>China</td>\n      <td>Asia</td>\n      <td>http://www.iciil.org/</td>\n    </tr>\n    <tr>\n      <th>36</th>\n      <td>ICIIL--EI 2023</td>\n      <td>2023 9th International Conference on Innovatio...</td>\n      <td>Aug 25, 2023 - Aug 27, 2023</td>\n      <td>Apr 10, 2023</td>\n      <td>Macau, China</td>\n      <td>China</td>\n      <td>Asia</td>\n      <td>http://www.iciil.org/</td>\n    </tr>\n    <tr>\n      <th>37</th>\n      <td>ICMEAS 2023</td>\n      <td>2023 9th International Conference on Mechanica...</td>\n      <td>Oct 13, 2023 - Oct 15, 2023</td>\n      <td>Apr 20, 2023</td>\n      <td>Xi'an, China</td>\n      <td>China</td>\n      <td>Asia</td>\n      <td>https://www.icmeas.org/</td>\n    </tr>\n    <tr>\n      <th>38</th>\n      <td>China-ICMEAS 2023</td>\n      <td>2023 9th International Conference on Mechanica...</td>\n      <td>Oct 13, 2023 - Oct 15, 2023</td>\n      <td>Apr 20, 2023</td>\n      <td>Xi'an, China</td>\n      <td>China</td>\n      <td>Asia</td>\n      <td>https://www.icmeas.org/</td>\n    </tr>\n    <tr>\n      <th>39</th>\n      <td>ICACM 2023</td>\n      <td>2023 6th International Conference on Advanced ...</td>\n      <td>Aug 23, 2023 - Aug 25, 2023</td>\n      <td>Apr 10, 2023</td>\n      <td>Hosei University, Tokyo, Japan</td>\n      <td>Japan</td>\n      <td>Asia</td>\n      <td>http://www.icacm.org</td>\n    </tr>\n    <tr>\n      <th>40</th>\n      <td>ICNST 2023</td>\n      <td>2023 The 6th International Conference on Nano ...</td>\n      <td>Aug 23, 2023 - Aug 25, 2023</td>\n      <td>Apr 10, 2023</td>\n      <td>Hosei University, Tokyo, Japan</td>\n      <td>Japan</td>\n      <td>Asia</td>\n      <td>http://www.icnst.org</td>\n    </tr>\n    <tr>\n      <th>41</th>\n      <td>AMMM 2023</td>\n      <td>2023 5th International Conference on Advances ...</td>\n      <td>Sep 1, 2023 - Sep 3, 2023</td>\n      <td>Mar 30, 2023</td>\n      <td>Osaka, Japan</td>\n      <td>Japan</td>\n      <td>Asia</td>\n      <td>http://www.ammm.org</td>\n    </tr>\n    <tr>\n      <th>42</th>\n      <td>ICMMM--Ei 2023</td>\n      <td>2023 10th International Conference on Mechanic...</td>\n      <td>Aug 18, 2023 - Aug 20, 2023</td>\n      <td>Mar 20, 2023</td>\n      <td>Washington, D. C., USA</td>\n      <td>USA</td>\n      <td>Undefined</td>\n      <td>http://www.icmmm.org/</td>\n    </tr>\n    <tr>\n      <th>43</th>\n      <td>ACM RSVT 2023</td>\n      <td>ACM--2023 The 4th International Conference on ...</td>\n      <td>Aug 4, 2023 - Aug 6, 2023</td>\n      <td>Mar 20, 2023</td>\n      <td>Jilin City, Jilin Province, China</td>\n      <td>China</td>\n      <td>Asia</td>\n      <td>http://www.rsvt.org</td>\n    </tr>\n    <tr>\n      <th>44</th>\n      <td>ICSREE 2023</td>\n      <td>2023 8th International Conference on Sustainab...</td>\n      <td>May 11, 2023 - May 13, 2023</td>\n      <td>Jan 30, 2023</td>\n      <td>Nice, France</td>\n      <td>France</td>\n      <td>Europe</td>\n      <td>http://www.icsree.com</td>\n    </tr>\n    <tr>\n      <th>45</th>\n      <td>JSEP SI on SQ4MS 2023</td>\n      <td>Special Issue on “Software Quality for Modern ...</td>\n      <td>Undefined</td>\n      <td>Dec 15, 2022</td>\n      <td>Undefined</td>\n      <td>Undefined</td>\n      <td>Undefined</td>\n      <td>https://onlinelibrary.wiley.com/pb-assets/asse...</td>\n    </tr>\n    <tr>\n      <th>46</th>\n      <td>IEEE I&amp;CPS Asia 2023</td>\n      <td>2023 IEEE IAS Industrial and Commercial Power ...</td>\n      <td>Jul 14, 2023 - Jul 16, 2023</td>\n      <td>Mar 15, 2023</td>\n      <td>Chongqing, China</td>\n      <td>China</td>\n      <td>Asia</td>\n      <td>http://ieee-icps.com/2023/</td>\n    </tr>\n    <tr>\n      <th>47</th>\n      <td>ICAC 2023</td>\n      <td>The 28th IEEE International Conference on Auto...</td>\n      <td>Aug 30, 2023 - Sep 1, 2023</td>\n      <td>Mar 30, 2023</td>\n      <td>Aston University, Birmingham, UK</td>\n      <td>UK</td>\n      <td>Undefined</td>\n      <td>https://cacsuk.co.uk/icac/</td>\n    </tr>\n    <tr>\n      <th>48</th>\n      <td>IRCE 2023</td>\n      <td>IEEE--2023 The 6th International Conference on...</td>\n      <td>Aug 4, 2023 - Aug 6, 2023</td>\n      <td>Mar 20, 2023</td>\n      <td>Jilin, China</td>\n      <td>China</td>\n      <td>Asia</td>\n      <td>http://www.irce.org</td>\n    </tr>\n  </tbody>\n</table>\n</div>"
     },
     "execution_count": 17,
     "metadata": {},
     "output_type": "execute_result"
    }
   ],
   "source": [
    "df_output"
   ],
   "metadata": {
    "collapsed": false,
    "pycharm": {
     "name": "#%%\n"
    }
   }
  },
  {
   "cell_type": "code",
   "execution_count": 18,
   "outputs": [],
   "source": [
    "# Get additional information\n",
    "# crawled_tables = pd.read_html(query)\n",
    "# crawled_tables[1]"
   ],
   "metadata": {
    "collapsed": false,
    "pycharm": {
     "name": "#%%\n"
    }
   }
  }
 ],
 "metadata": {
  "kernelspec": {
   "display_name": "Python 3",
   "language": "python",
   "name": "python3"
  },
  "language_info": {
   "codemirror_mode": {
    "name": "ipython",
    "version": 2
   },
   "file_extension": ".py",
   "mimetype": "text/x-python",
   "name": "python",
   "nbconvert_exporter": "python",
   "pygments_lexer": "ipython2",
   "version": "2.7.6"
  }
 },
 "nbformat": 4,
 "nbformat_minor": 0
}